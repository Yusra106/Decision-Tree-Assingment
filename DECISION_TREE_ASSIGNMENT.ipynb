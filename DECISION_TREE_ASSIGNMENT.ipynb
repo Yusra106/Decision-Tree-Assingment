{
  "nbformat": 4,
  "nbformat_minor": 0,
  "metadata": {
    "colab": {
      "provenance": []
    },
    "kernelspec": {
      "name": "python3",
      "display_name": "Python 3"
    },
    "language_info": {
      "name": "python"
    }
  },
  "cells": [
    {
      "cell_type": "markdown",
      "source": [
        "# **THEORETICAL**"
      ],
      "metadata": {
        "id": "XzsJ1s_yPYUM"
      }
    },
    {
      "cell_type": "markdown",
      "source": [
        "Ques1. What is a Decision Tree, and how does it work ?"
      ],
      "metadata": {
        "id": "1F1t_DHzPg2B"
      }
    },
    {
      "cell_type": "markdown",
      "source": [
        "Ans. A Decision Tree is a type of supervised machine learning algorithm used for classification and regression tasks. It works by breaking down a dataset into smaller subsets while at the same time developing an associated tree structure incrementally. The final result is a tree with decision nodes and leaf nodes."
      ],
      "metadata": {
        "id": "sNIV9FhvQwg6"
      }
    },
    {
      "cell_type": "markdown",
      "source": [
        "Ques2. What are impurity measures in Decision Trees ?"
      ],
      "metadata": {
        "id": "Wv7H5RrFQzGy"
      }
    },
    {
      "cell_type": "markdown",
      "source": [
        "Ans. Impurity measures in Decision Trees help determine how \"mixed\" or \"pure\" a node is — essentially how good a feature is at splitting the data. A node is pure if all samples belong to the same class. Impurity measures guide the algorithm in choosing the best feature and threshold to split on."
      ],
      "metadata": {
        "id": "YsX0fODAQ36h"
      }
    },
    {
      "cell_type": "markdown",
      "source": [
        "Ques3. What is the mathematical formula for Gini Impurity ?"
      ],
      "metadata": {
        "id": "3NzqWLE_RXiC"
      }
    },
    {
      "cell_type": "markdown",
      "source": [
        "Ans. The **mathematical formula** for **Gini Impurity** at a node is:\n",
        "\n",
        "$$\n",
        "Gini = 1 - \\sum_{i=1}^{C} p_i^2\n",
        "$$\n",
        "\n",
        " Where:\n",
        "\n",
        "* $C$ = total number of classes\n",
        "* $p_i$ = proportion of samples belonging to class $i$ in the node\n",
        "\n",
        "\n",
        "\n"
      ],
      "metadata": {
        "id": "97tvQ7hmRe-K"
      }
    },
    {
      "cell_type": "markdown",
      "source": [
        "Ques4. What is the mathematical formula for Entropy ?"
      ],
      "metadata": {
        "id": "A4VGOE7JR0E5"
      }
    },
    {
      "cell_type": "markdown",
      "source": [
        "Ans. The **mathematical formula for Entropy** in the context of decision trees (used to measure the impurity or uncertainty of a node) is:\n",
        "\n",
        "$$\n",
        "\\text{Entropy} = - \\sum_{i=1}^{C} p_i \\log_2(p_i)\n",
        "$$\n",
        "\n",
        "Where:\n",
        "\n",
        "* $C$ = number of classes\n",
        "* $p_i$ = proportion of samples belonging to class $i$ in the node\n",
        "* The logarithm is base 2 (because we're measuring information in **bits**)\n",
        "\n",
        "\n"
      ],
      "metadata": {
        "id": "c0HrmJI0SGg6"
      }
    },
    {
      "cell_type": "markdown",
      "source": [
        "Ques5. What is Information Gain, and how is it used in Decision Trees ?"
      ],
      "metadata": {
        "id": "yuwURd03SeX6"
      }
    },
    {
      "cell_type": "markdown",
      "source": [
        " Ans.  \n",
        "**Information Gain (IG)** is a metric used in **decision tree algorithms** (like ID3 and C4.5) to quantify how much **predictive power** a feature contributes when splitting data. It measures the **reduction in entropy** (uncertainty) after a dataset is split based on an attribute.\n",
        "\n",
        "In simple terms:\n",
        "\n",
        "Information Gain tells us **how much we learned** about the target variable by knowing the value of a feature.\n",
        "\n",
        "\n",
        "###  **Mathematical Definition**\n",
        "\n",
        "$$\n",
        "\\text{Information Gain (IG)} = \\text{Entropy (Parent)} - \\sum_{k=1}^{n} \\frac{N_k}{N} \\cdot \\text{Entropy (Child}_k\\text{)}\n",
        "$$\n",
        "\n",
        "### Where:\n",
        "\n",
        "* $\\text{Entropy(Parent)}$ = entropy of the dataset before the split\n",
        "* $N_k$ = number of instances in child node $k$\n",
        "* $N$ = total number of instances before the split\n",
        "* $\\text{Entropy(Child}_k\\text{)}$ = entropy of child node $k$\n",
        "* The sum goes over all child nodes created by the split (usually 2 for binary splits)\n",
        "\n",
        "---\n",
        "\n",
        "###  **How It's Used in Decision Trees**\n",
        "\n",
        "1. **Start at the root** with the entire dataset.\n",
        "2. For each feature:\n",
        "\n",
        "   * Try splitting the dataset on all possible thresholds (if numerical).\n",
        "   * Calculate the **Information Gain** for each possible split.\n",
        "3. Choose the feature and threshold that gives the **highest Information Gain**.\n",
        "4. Split the dataset using that feature.\n",
        "5. Repeat the process **recursively** for each child node.\n",
        "\n",
        "\n",
        "\n",
        "\n"
      ],
      "metadata": {
        "id": "klntjarwSmda"
      }
    },
    {
      "cell_type": "markdown",
      "source": [
        "Ques6. What is the difference between Gini Impurity and Entropy?"
      ],
      "metadata": {
        "id": "y3z5AP02TPPK"
      }
    },
    {
      "cell_type": "markdown",
      "source": [
        "Ans. Comparison between **Gini Impurity** and **Entropy** in decision trees:\n",
        "\n",
        "\n",
        "\n",
        "\n",
        "| Aspect                 | Gini Impurity                                                                                                              | Entropy                                                                                                   |\n",
        "| ---------------------- | -------------------------------------------------------------------------------------------------------------------------- | --------------------------------------------------------------------------------------------------------- |\n",
        "| **Definition**         | Measures the probability of misclassification if you randomly label an instance according to class proportions in the node | Measures the amount of disorder or uncertainty in the node’s class distribution (from information theory) |\n",
        "| **Formula**            | $G = 1 - \\sum p_i^2$                                                                                                       | $H = -\\sum p_i \\log_2(p_i)$                                                                               |\n",
        "| **Range**              | 0 (pure node) to 0.5 (max impurity for binary)                                                                             | 0 (pure node) to 1 (max impurity for binary)                                                              |\n",
        "| **Computational cost** | Less expensive (no logarithms)                                                                                             | More expensive (calculates logarithms)                                                                    |\n",
        "| **Sensitivity**        | Focuses more on class purity, tends to isolate the most frequent class quickly                                             | Reflects overall uncertainty, tends to create more balanced splits                                        |\n",
        "| **Used in**            | CART algorithm (default in many libraries like scikit-learn)                                                               | ID3 and C4.5 algorithms                                                                                   |\n",
        "\n",
        "---\n",
        "\n"
      ],
      "metadata": {
        "id": "OslArRW-UVRj"
      }
    },
    {
      "cell_type": "markdown",
      "source": [
        "Ques7. What is the mathematical explanation behind Decision Trees?"
      ],
      "metadata": {
        "id": "HXvEYSWWUmz0"
      }
    },
    {
      "cell_type": "markdown",
      "source": [
        "Ans. The **mathematical explanation behind decision trees** and how they work:\n",
        "\n",
        "## 1. **Goal of a Decision Tree**\n",
        "\n",
        "Given:\n",
        "\n",
        "* A dataset $\\mathcal{D} = \\{(\\mathbf{x}_i, y_i)\\}_{i=1}^N$ with features $\\mathbf{x}_i \\in \\mathbb{R}^d$ and labels $y_i$ (categorical for classification or continuous for regression),\n",
        "\n",
        "The goal is to learn a function $f: \\mathbb{R}^d \\to \\mathcal{Y}$ that maps inputs to outputs by recursively partitioning the feature space to minimize **impurity** or **error** at each split.\n",
        "\n",
        "## 2. **Recursive Partitioning**\n",
        "\n",
        "* The tree splits the data at each node using a **feature $j$** and a **threshold $t$** to create two child nodes:\n",
        "\n",
        "$$\n",
        "\\begin{cases}\n",
        "\\mathcal{D}_\\text{left} = \\{ (\\mathbf{x}, y) \\mid x_j \\leq t \\} \\\\\n",
        "\\mathcal{D}_\\text{right} = \\{ (\\mathbf{x}, y) \\mid x_j > t \\}\n",
        "\\end{cases}\n",
        "$$\n",
        "\n",
        "* The best split $(j^*, t^*)$ is chosen by minimizing the **impurity** or **loss function** after the split.\n",
        "\n",
        "## 3. **Impurity Measures**\n",
        "\n",
        "* For classification, typical impurity functions are:\n",
        "\n",
        "  * **Gini Impurity:**\n",
        "\n",
        "  $$\n",
        "  G(\\mathcal{D}) = 1 - \\sum_{c=1}^C p_c^2\n",
        "  $$\n",
        "\n",
        "  where $p_c$ is the fraction of class $c$ samples in $\\mathcal{D}$.\n",
        "\n",
        "  * **Entropy:**\n",
        "\n",
        "  $$\n",
        "  H(\\mathcal{D}) = - \\sum_{c=1}^C p_c \\log_2 p_c\n",
        "  $$\n",
        "\n",
        "* For regression, typical loss functions include variance or mean squared error (MSE).\n",
        "\n",
        "## 4. **Choosing the Best Split**\n",
        "\n",
        "The impurity of a node $\\mathcal{D}$ before splitting is $I(\\mathcal{D})$. After splitting into $\\mathcal{D}_\\text{left}$ and $\\mathcal{D}_\\text{right}$, the weighted impurity is:\n",
        "\n",
        "$$\n",
        "I_\\text{split} = \\frac{|\\mathcal{D}_\\text{left}|}{|\\mathcal{D}|} I(\\mathcal{D}_\\text{left}) + \\frac{|\\mathcal{D}_\\text{right}|}{|\\mathcal{D}|} I(\\mathcal{D}_\\text{right})\n",
        "$$\n",
        "\n",
        "The goal is to find:\n",
        "\n",
        "$$\n",
        "(j^*, t^*) = \\arg\\min_{j, t} I_\\text{split}\n",
        "$$\n",
        "\n",
        "which minimizes the weighted impurity after the split.\n",
        "\n",
        "## 5. **Stopping Criteria**\n",
        "\n",
        "The recursive splitting continues until:\n",
        "\n",
        "* The node is pure (all samples belong to one class),\n",
        "* Maximum tree depth is reached,\n",
        "* Minimum number of samples in a node is reached,\n",
        "* Or no split reduces impurity.\n",
        "\n",
        "## 6. **Prediction**\n",
        "\n",
        "* For classification: Assign the class with the majority label in the leaf node.\n",
        "* For regression: Use the average target value in the leaf node.\n",
        "\n"
      ],
      "metadata": {
        "id": "cfrMl5ccVCQq"
      }
    },
    {
      "cell_type": "markdown",
      "source": [
        "Ques8. What is Pre-Pruning in Decision Trees?"
      ],
      "metadata": {
        "id": "JOp69PVsU4N7"
      }
    },
    {
      "cell_type": "markdown",
      "source": [
        "Ans. Pre-pruning, also known as early stopping, is a method used in decision tree algorithms to prevent overfitting by limiting the growth of the tree before it reaches its full complexity. This is achieved by setting constraints on the tree's structure, such as maximum depth or minimum samples required for a split."
      ],
      "metadata": {
        "id": "sR-1Bin8n9Tw"
      }
    },
    {
      "cell_type": "markdown",
      "source": [
        "Ques9. What is Post-Pruning in Decision Trees ?"
      ],
      "metadata": {
        "id": "ztSBaZ0XoJTQ"
      }
    },
    {
      "cell_type": "markdown",
      "source": [
        "Ans. Post-pruning in decision trees involves removing branches from a fully grown tree to improve generalization and reduce overfitting. This is done after the tree has been constructed, allowing it to first learn the training data thoroughly. By then removing branches that contribute little to overall accuracy, the model becomes simpler and more robust, leading to better performance on unseen data."
      ],
      "metadata": {
        "id": "KYn56bXNoPUc"
      }
    },
    {
      "cell_type": "markdown",
      "source": [
        "Ques10. What is the difference between Pre-Pruning and Post-Pruning ?"
      ],
      "metadata": {
        "id": "qogmkilNoYQ3"
      }
    },
    {
      "cell_type": "markdown",
      "source": [
        "Ans. Pre-pruning and post-pruning are two different approaches to simplifying decision trees in machine learning. Pre-pruning, also known as early stopping, stops the growth of the tree during its construction based on certain criteria, preventing it from becoming too complex. Post-pruning, on the other hand, builds a full tree first and then prunes away branches that don't contribute significantly to performance."
      ],
      "metadata": {
        "id": "bRthCnJ7odjl"
      }
    },
    {
      "cell_type": "markdown",
      "source": [
        "Ques11. What is a Decision Tree Regressor ?"
      ],
      "metadata": {
        "id": "wppVm2mgooyP"
      }
    },
    {
      "cell_type": "markdown",
      "source": [
        "Ans. A Decision Tree Regressor is a machine learning algorithm that uses a tree-like model to predict continuous numerical values, unlike classification which predicts categorical values. It works by recursively splitting data based on features, creating a tree structure where each internal node represents a decision rule, each branch represents an outcome of a decision, and each leaf node provides the predicted value."
      ],
      "metadata": {
        "id": "90jErjrsotGu"
      }
    },
    {
      "cell_type": "markdown",
      "source": [
        "Ques12. What are the advantages and disadvantages of Decision Trees?"
      ],
      "metadata": {
        "id": "-GD9aoQDo8CN"
      }
    },
    {
      "cell_type": "markdown",
      "source": [
        "Ans. The **advantages and disadvantages** of **Decision Trees**:\n",
        "\n",
        "##  Advantages of Decision Trees\n",
        "\n",
        "| Advantage                                       | Explanation                                                                                    |\n",
        "| ----------------------------------------------- | ---------------------------------------------------------------------------------------------- |\n",
        "| **Easy to understand and interpret**            | Decision trees are intuitive and can be visualized — you can follow the \"if-then\" rules.       |\n",
        "| **No need for feature scaling**                 | Unlike models like SVMs or KNN, decision trees don't require normalization or standardization. |\n",
        "| **Handles both numerical and categorical data** | Can process different types of data directly.                                                  |\n",
        "| **Non-parametric**                              | No assumptions about data distribution (e.g., linearity, normality).                           |\n",
        "| **Handles missing values**                      | Some implementations can deal with missing data effectively.                                   |\n",
        "| **Feature importance**                          | Provides insight into which features are most influential.                                     |\n",
        "| **Fast predictions**                            | Once trained, decision trees are quick to evaluate for new samples.                            |\n",
        "\n",
        "---\n",
        "\n",
        "## Disadvantages of Decision Trees\n",
        "\n",
        "| Disadvantage                    | Explanation                                                                                                                   |\n",
        "| ------------------------------- | ----------------------------------------------------------------------------------------------------------------------------- |\n",
        "| **Prone to overfitting**        | Especially if the tree is deep and complex — it may learn noise in the data.                                                  |\n",
        "| **Unstable to small changes**   | A small change in the data can lead to a very different tree structure.                                                       |\n",
        "| **Biased with imbalanced data** | Can favor classes with more samples if not properly handled.                                                                  |\n",
        "| **Greedy splitting**            | Uses local decisions at each node without considering the global optimum.                                                     |\n",
        "| **Poor at smooth functions**    | Because predictions are piecewise constant, they can't model smooth trends well.                                              |\n",
        "| **Limited expressiveness**      | A single decision tree may not be powerful enough for complex patterns (though ensembles like Random Forest help solve this). |\n"
      ],
      "metadata": {
        "id": "-saOnUT3pBNu"
      }
    },
    {
      "cell_type": "markdown",
      "source": [
        "Ques13. How does a Decision Tree handle missing values?"
      ],
      "metadata": {
        "id": "jnMaH2XaqkUV"
      }
    },
    {
      "cell_type": "markdown",
      "source": [
        "Ans. A **Decision Tree** can handle **missing values** in several ways, depending on the algorithm and implementation. While classic decision trees don’t handle missing values directly, modern approaches and libraries (like XGBoost, LightGBM, and sometimes scikit-learn) implement strategies to deal with them.\n",
        "\n",
        "\n",
        "## 🌳 Common Strategies for Handling Missing Values in Decision Trees\n",
        "\n",
        "### 1. **Imputation Before Training (Preprocessing Step)**\n",
        "\n",
        "* You manually **fill in missing values** before feeding the data to the tree.\n",
        "\n",
        "  * **Numerical features:** use mean, median, or predictive imputation.\n",
        "  * **Categorical features:** use mode or a placeholder like `\"Missing\"`.\n",
        "* Common in libraries like `scikit-learn` (e.g., using `SimpleImputer`).\n",
        "\n",
        "### 2. **Surrogate Splits (used in CART)**\n",
        "\n",
        "* If the best feature to split on has missing values, the tree uses **alternative features** (surrogates) that closely mimic the original split.\n",
        "* For a sample with a missing value, it uses the surrogate feature to decide the direction (left/right).\n",
        "* This preserves decision logic without needing imputation.\n",
        "\n",
        "### 3. **Missing Value as a Separate Category**\n",
        "\n",
        "* Some trees treat `\"missing\"` as a **distinct category**, especially for categorical features.\n",
        "* Example: `[Red, Green, Missing]` is treated as 3 categories.\n",
        "\n",
        "### 4. **Learn Best Direction for Missing**\n",
        "\n",
        "* Used by **XGBoost** and **LightGBM**.\n",
        "* During training, they **learn which direction (left or right)** gives lower error when encountering a missing value.\n",
        "* At prediction time, if a value is missing, the tree routes it down the pre-learned best path.\n",
        "\n",
        "\n"
      ],
      "metadata": {
        "id": "HUv-mmNKqy2n"
      }
    },
    {
      "cell_type": "markdown",
      "source": [
        "Ques14. How does a Decision Tree handle categorical features ?"
      ],
      "metadata": {
        "id": "PnrNOm-Trgyv"
      }
    },
    {
      "cell_type": "markdown",
      "source": [
        "Ans.\n",
        "##  How Decision Trees Handle Categorical Features\n",
        "\n",
        "###  1. **One-vs-All Splits (for Low-Cardinality Features)**\n",
        "\n",
        "* For a categorical feature with values like `[\"Red\", \"Green\", \"Blue\"]`, the tree may try all **binary splits**:\n",
        "\n",
        "  * e.g., `Red` vs. `Green/Blue`, `Green` vs. `Red/Blue`, etc.\n",
        "* The best split is selected based on impurity reduction (Gini, Entropy).\n",
        "\n",
        " This works well for **low-cardinality** features (few unique values).\n",
        "\n",
        "###  2. **One-Hot Encoding (in libraries like scikit-learn)**\n",
        "\n",
        "* Converts each category into a new binary feature (0 or 1).\n",
        "* For example:\n",
        "\n",
        "  * `Color = [\"Red\", \"Green\", \"Blue\"]` becomes:\n",
        "\n",
        "    * `Color_Red`, `Color_Green`, `Color_Blue`\n",
        "* The tree treats each binary column as a separate numeric feature.\n",
        "\n",
        "Can be inefficient for **high-cardinality** features (lots of categories).\n",
        "\n",
        "###  3. **Native Categorical Handling (LightGBM, CatBoost)**\n",
        "\n",
        "* Some modern tree algorithms (like **LightGBM**, **CatBoost**) **natively support categorical features** without one-hot encoding.\n",
        "* They:\n",
        "\n",
        "  * Evaluate optimal **groupings of categories** to find the best split.\n",
        "  * Use statistical methods to **sort categories** by target distribution.\n",
        "\n",
        "This is more memory-efficient and often yields better accuracy.\n",
        "\n",
        "###  4. **Label Encoding (Numeric Codes)**\n",
        "\n",
        "* Simply replacing categories with integers (e.g., Red = 0, Green = 1).\n",
        "* **Not recommended** unless the tree implementation treats the values as unordered.\n",
        "* Can mislead algorithms into assuming ordinal relationships that don’t exist."
      ],
      "metadata": {
        "id": "oaG84NbXrnrl"
      }
    },
    {
      "cell_type": "markdown",
      "source": [
        "Ques15. What are some real-world applications of Decision Trees?"
      ],
      "metadata": {
        "id": "n3hUlvtJsJ3u"
      }
    },
    {
      "cell_type": "markdown",
      "source": [
        "Ans. Decision Trees are widely used in the real world because they're **simple, interpretable**, and effective for both **classification** and **regression** tasks. Here are some common **real-world applications** across different industries:\n",
        "\n",
        "## 💼 1. **Finance**\n",
        "\n",
        "| Use Case                | Description                                                                        |\n",
        "| ----------------------- | ---------------------------------------------------------------------------------- |\n",
        "| **Credit scoring**      | Predict whether a person will repay a loan (based on income, credit history, etc.) |\n",
        "| **Fraud detection**     | Classify transactions as fraudulent or legitimate based on patterns in the data    |\n",
        "| **Investment analysis** | Predict stock movement or assess investment risks                                  |\n",
        "\n",
        "---\n",
        "\n",
        "## 🏥 2. **Healthcare**\n",
        "\n",
        "| Use Case                            | Description                                                                                  |\n",
        "| ----------------------------------- | -------------------------------------------------------------------------------------------- |\n",
        "| **Disease diagnosis**               | Classify whether a patient has a condition (e.g., cancer, diabetes) based on symptoms, tests |\n",
        "| **Treatment recommendations**       | Decide optimal treatment paths based on patient history and diagnosis                        |\n",
        "| **Hospital readmission prediction** | Estimate likelihood a patient will be readmitted within 30 days                              |\n",
        "\n",
        "---\n",
        "\n",
        "## 🛍️ 3. **Retail & E-Commerce**\n",
        "\n",
        "| Use Case                   | Description                                                                |\n",
        "| -------------------------- | -------------------------------------------------------------------------- |\n",
        "| **Customer segmentation**  | Group customers based on purchasing behavior for targeted marketing        |\n",
        "| **Recommendation systems** | Predict what a customer is likely to buy next                              |\n",
        "| **Churn prediction**       | Identify customers likely to stop using a service or cancel a subscription |\n",
        "\n",
        "\n",
        "## 🎓 4. **Education**\n",
        "\n",
        "| Use Case                           | Description                                                   |\n",
        "| ---------------------------------- | ------------------------------------------------------------- |\n",
        "| **Student performance prediction** | Predict if a student is at risk of failing or dropping out    |\n",
        "| **Course recommendation**          | Suggest courses based on a student’s background and interests |\n",
        "\n",
        "## 🏢 5. **Human Resources**\n",
        "\n",
        "| Use Case                          | Description                                                |\n",
        "| --------------------------------- | ---------------------------------------------------------- |\n",
        "| **Employee attrition prediction** | Predict whether an employee is likely to leave the company |\n",
        "| **Resume screening**              | Automate candidate classification based on resume features |\n",
        "\n",
        "\n",
        "\n",
        "## 🚗 6. **Manufacturing & Logistics**\n",
        "\n",
        "| Use Case               | Description                                                            |\n",
        "| ---------------------- | ---------------------------------------------------------------------- |\n",
        "| **Quality control**    | Classify whether products are defective or pass inspection             |\n",
        "| **Demand forecasting** | Predict product demand based on historical trends and seasonal factors |\n",
        "| **Route optimization** | Predict best delivery routes under changing traffic conditions         |\n",
        "\n",
        "---\n",
        "\n",
        "## 🌐 7. **Telecommunications**\n",
        "\n",
        "| Use Case                           | Description                                             |\n",
        "| ---------------------------------- | ------------------------------------------------------- |\n",
        "| **Service upgrade recommendation** | Predict which customers are ready to upgrade plans      |\n",
        "| **Network fault diagnosis**        | Identify the source of service issues in large networks |\n",
        "\n",
        "\n"
      ],
      "metadata": {
        "id": "DZkwOr0esbgW"
      }
    },
    {
      "cell_type": "markdown",
      "source": [
        "# **PRACTICAL**"
      ],
      "metadata": {
        "id": "vVoLV0Q6s95d"
      }
    },
    {
      "cell_type": "markdown",
      "source": [
        "Ques16. Write a Python program to train a Decision Tree Classifier on the Iris dataset and print the model accuracy."
      ],
      "metadata": {
        "id": "NVo8gUGctLXN"
      }
    },
    {
      "cell_type": "code",
      "source": [
        "from sklearn.datasets import load_iris\n",
        "from sklearn.tree import DecisionTreeClassifier\n",
        "from sklearn.model_selection import train_test_split\n",
        "from sklearn.metrics import accuracy_score\n",
        "\n",
        "# Load the Iris dataset\n",
        "iris = load_iris()\n",
        "X = iris.data\n",
        "y = iris.target\n",
        "\n",
        "# Split the dataset into training and testing sets\n",
        "X_train, X_test, y_train, y_test = train_test_split(X, y, test_size=0.2, random_state=42)\n",
        "\n",
        "# Create a Decision Tree Classifier\n",
        "clf = DecisionTreeClassifier(random_state=42)\n",
        "\n",
        "# Train the classifier\n",
        "clf.fit(X_train, y_train)\n",
        "\n",
        "# Make predictions on the test set\n",
        "y_pred = clf.predict(X_test)\n",
        "\n",
        "# Calculate and print the accuracy\n",
        "accuracy = accuracy_score(y_test, y_pred)\n",
        "print(f\"Accuracy of the Decision Tree Classifier on the Iris dataset: {accuracy:.2f}\")"
      ],
      "metadata": {
        "colab": {
          "base_uri": "https://localhost:8080/"
        },
        "id": "Gs8tzmILtnyl",
        "outputId": "ffce8680-b228-47b0-ff15-07ab107507bd"
      },
      "execution_count": 2,
      "outputs": [
        {
          "output_type": "stream",
          "name": "stdout",
          "text": [
            "Accuracy of the Decision Tree Classifier on the Iris dataset: 1.00\n"
          ]
        }
      ]
    },
    {
      "cell_type": "markdown",
      "source": [
        "Ques17. Write a Python program to train a Decision Tree Classifier using Gini Impurity as the criterion and print the feature importances."
      ],
      "metadata": {
        "id": "HD_wjMyjtr02"
      }
    },
    {
      "cell_type": "code",
      "source": [
        "# Create a Decision Tree Classifier using Gini Impurity\n",
        "clf_gini = DecisionTreeClassifier(criterion='gini', random_state=42)\n",
        "\n",
        "# Train the classifier\n",
        "clf_gini.fit(X_train, y_train)\n",
        "\n",
        "# Print the feature importances\n",
        "print(\"\\nFeature importances (Gini criterion):\")\n",
        "for i, importance in enumerate(clf_gini.feature_importances_):\n",
        "  print(f\"Feature {i} ({iris.feature_names[i]}): {importance:.4f}\")\n",
        "\n",
        "# Optional: Make predictions and calculate accuracy for the Gini model\n",
        "y_pred_gini = clf_gini.predict(X_test)\n",
        "accuracy_gini = accuracy_score(y_test, y_pred_gini)\n",
        "print(f\"\\nAccuracy of the Gini Decision Tree Classifier on the Iris dataset: {accuracy_gini:.2f}\")"
      ],
      "metadata": {
        "colab": {
          "base_uri": "https://localhost:8080/"
        },
        "id": "loxqPaW8txMe",
        "outputId": "005dc73c-8b7b-4492-a00d-a6a33aac7a81"
      },
      "execution_count": 3,
      "outputs": [
        {
          "output_type": "stream",
          "name": "stdout",
          "text": [
            "\n",
            "Feature importances (Gini criterion):\n",
            "Feature 0 (sepal length (cm)): 0.0000\n",
            "Feature 1 (sepal width (cm)): 0.0167\n",
            "Feature 2 (petal length (cm)): 0.9061\n",
            "Feature 3 (petal width (cm)): 0.0772\n",
            "\n",
            "Accuracy of the Gini Decision Tree Classifier on the Iris dataset: 1.00\n"
          ]
        }
      ]
    },
    {
      "cell_type": "markdown",
      "source": [
        "Ques18. Write a Python program to train a Decision Tree Classifier using Entropy as the splitting criterion and print the model accuracy."
      ],
      "metadata": {
        "id": "FL7Db8cXt_pd"
      }
    },
    {
      "cell_type": "code",
      "source": [
        "# Create a Decision Tree Classifier using Entropy as the criterion\n",
        "clf_entropy = DecisionTreeClassifier(criterion='entropy', random_state=42)\n",
        "\n",
        "# Train the classifier\n",
        "clf_entropy.fit(X_train, y_train)\n",
        "\n",
        "# Make predictions on the test set\n",
        "y_pred_entropy = clf_entropy.predict(X_test)\n",
        "\n",
        "# Calculate and print the accuracy\n",
        "accuracy_entropy = accuracy_score(y_test, y_pred_entropy)\n",
        "print(f\"\\nAccuracy of the Entropy Decision Tree Classifier on the Iris dataset: {accuracy_entropy:.2f}\")"
      ],
      "metadata": {
        "colab": {
          "base_uri": "https://localhost:8080/"
        },
        "id": "bD9-tr-buFH_",
        "outputId": "2ab1e9b0-9d1d-4c1b-fb6d-7525e62b3b32"
      },
      "execution_count": 4,
      "outputs": [
        {
          "output_type": "stream",
          "name": "stdout",
          "text": [
            "\n",
            "Accuracy of the Entropy Decision Tree Classifier on the Iris dataset: 1.00\n"
          ]
        }
      ]
    },
    {
      "cell_type": "markdown",
      "source": [
        "Ques19. Write a Python program to train a Decision Tree Regressor on a housing dataset and evaluate using Mean Squared Error (MSE)."
      ],
      "metadata": {
        "id": "uPTbnZ8WuTJ9"
      }
    },
    {
      "cell_type": "code",
      "source": [
        "from sklearn.datasets import fetch_california_housing\n",
        "from sklearn.tree import DecisionTreeRegressor\n",
        "from sklearn.model_selection import train_test_split\n",
        "from sklearn.metrics import mean_squared_error\n",
        "\n",
        "# Load the California Housing dataset\n",
        "housing = fetch_california_housing()\n",
        "X_housing = housing.data\n",
        "y_housing = housing.target\n",
        "\n",
        "# Split the dataset into training and testing sets\n",
        "X_train_housing, X_test_housing, y_train_housing, y_test_housing = train_test_split(X_housing, y_housing, test_size=0.2, random_state=42)\n",
        "\n",
        "# Create a Decision Tree Regressor\n",
        "regressor = DecisionTreeRegressor(random_state=42)\n",
        "\n",
        "# Train the regressor\n",
        "regressor.fit(X_train_housing, y_train_housing)\n",
        "\n",
        "# Make predictions on the test set\n",
        "y_pred_housing = regressor.predict(X_test_housing)\n",
        "\n",
        "# Calculate and print the Mean Squared Error\n",
        "mse = mean_squared_error(y_test_housing, y_pred_housing)\n",
        "print(f\"\\nMean Squared Error of the Decision Tree Regressor on the housing dataset: {mse:.4f}\")"
      ],
      "metadata": {
        "colab": {
          "base_uri": "https://localhost:8080/"
        },
        "id": "-Nw6TFCduatV",
        "outputId": "9d99b202-4ec7-4bc3-96dd-af45d276c962"
      },
      "execution_count": 5,
      "outputs": [
        {
          "output_type": "stream",
          "name": "stdout",
          "text": [
            "\n",
            "Mean Squared Error of the Decision Tree Regressor on the housing dataset: 0.4952\n"
          ]
        }
      ]
    },
    {
      "cell_type": "markdown",
      "source": [
        "Ques20. Write a Python program to train a Decision Tree Classifier and visualize the tree using graphviz."
      ],
      "metadata": {
        "id": "e8CGURR7uaQI"
      }
    },
    {
      "cell_type": "code",
      "source": [
        "!pip install graphviz\n",
        "from sklearn.tree import export_graphviz\n",
        "import graphviz\n",
        "\n",
        "# Visualize the trained Decision Tree Classifier (using the clf_gini from Q17)\n",
        "# You could also visualize clf (default criterion) or clf_entropy\n",
        "\n",
        "# Export the tree to a DOT file\n",
        "dot_data = export_graphviz(clf_gini,\n",
        "                           feature_names=iris.feature_names,\n",
        "                           class_names=iris.target_names,\n",
        "                           filled=True,\n",
        "                           rounded=True,\n",
        "                           special_characters=True)\n",
        "\n",
        "# Create a Graphviz object from the DOT data\n",
        "graph = graphviz.Source(dot_data)\n",
        "\n",
        "# Render the graph to a file (e.g., PDF, PNG) or display it\n",
        "# You can save it: graph.render(\"iris_decision_tree\")\n",
        "# Or display it directly in a notebook (if the graphviz is installed correctly)\n",
        "graph"
      ],
      "metadata": {
        "colab": {
          "base_uri": "https://localhost:8080/",
          "height": 1000
        },
        "id": "rX_wl6uwux51",
        "outputId": "76f3507f-8ae8-46eb-df91-074e49a0c9aa"
      },
      "execution_count": 6,
      "outputs": [
        {
          "output_type": "stream",
          "name": "stdout",
          "text": [
            "Requirement already satisfied: graphviz in /usr/local/lib/python3.11/dist-packages (0.21)\n"
          ]
        },
        {
          "output_type": "execute_result",
          "data": {
            "image/svg+xml": "<?xml version=\"1.0\" encoding=\"UTF-8\" standalone=\"no\"?>\n<!DOCTYPE svg PUBLIC \"-//W3C//DTD SVG 1.1//EN\"\n \"http://www.w3.org/Graphics/SVG/1.1/DTD/svg11.dtd\">\n<!-- Generated by graphviz version 2.43.0 (0)\n -->\n<!-- Title: Tree Pages: 1 -->\n<svg width=\"751pt\" height=\"790pt\"\n viewBox=\"0.00 0.00 751.00 790.00\" xmlns=\"http://www.w3.org/2000/svg\" xmlns:xlink=\"http://www.w3.org/1999/xlink\">\n<g id=\"graph0\" class=\"graph\" transform=\"scale(1 1) rotate(0) translate(4 786)\">\n<title>Tree</title>\n<polygon fill=\"white\" stroke=\"transparent\" points=\"-4,4 -4,-786 747,-786 747,4 -4,4\"/>\n<!-- 0 -->\n<g id=\"node1\" class=\"node\">\n<title>0</title>\n<path fill=\"#fdfffd\" stroke=\"black\" d=\"M266,-782C266,-782 131,-782 131,-782 125,-782 119,-776 119,-770 119,-770 119,-711 119,-711 119,-705 125,-699 131,-699 131,-699 266,-699 266,-699 272,-699 278,-705 278,-711 278,-711 278,-770 278,-770 278,-776 272,-782 266,-782\"/>\n<text text-anchor=\"start\" x=\"127\" y=\"-766.8\" font-family=\"Helvetica,sans-Serif\" font-size=\"14.00\">petal length (cm) ≤ 2.45</text>\n<text text-anchor=\"start\" x=\"163\" y=\"-751.8\" font-family=\"Helvetica,sans-Serif\" font-size=\"14.00\">gini = 0.667</text>\n<text text-anchor=\"start\" x=\"153.5\" y=\"-736.8\" font-family=\"Helvetica,sans-Serif\" font-size=\"14.00\">samples = 120</text>\n<text text-anchor=\"start\" x=\"140.5\" y=\"-721.8\" font-family=\"Helvetica,sans-Serif\" font-size=\"14.00\">value = [40, 41, 39]</text>\n<text text-anchor=\"start\" x=\"146\" y=\"-706.8\" font-family=\"Helvetica,sans-Serif\" font-size=\"14.00\">class = versicolor</text>\n</g>\n<!-- 1 -->\n<g id=\"node2\" class=\"node\">\n<title>1</title>\n<path fill=\"#e58139\" stroke=\"black\" d=\"M167,-655.5C167,-655.5 74,-655.5 74,-655.5 68,-655.5 62,-649.5 62,-643.5 62,-643.5 62,-599.5 62,-599.5 62,-593.5 68,-587.5 74,-587.5 74,-587.5 167,-587.5 167,-587.5 173,-587.5 179,-593.5 179,-599.5 179,-599.5 179,-643.5 179,-643.5 179,-649.5 173,-655.5 167,-655.5\"/>\n<text text-anchor=\"start\" x=\"92.5\" y=\"-640.3\" font-family=\"Helvetica,sans-Serif\" font-size=\"14.00\">gini = 0.0</text>\n<text text-anchor=\"start\" x=\"79.5\" y=\"-625.3\" font-family=\"Helvetica,sans-Serif\" font-size=\"14.00\">samples = 40</text>\n<text text-anchor=\"start\" x=\"70\" y=\"-610.3\" font-family=\"Helvetica,sans-Serif\" font-size=\"14.00\">value = [40, 0, 0]</text>\n<text text-anchor=\"start\" x=\"77\" y=\"-595.3\" font-family=\"Helvetica,sans-Serif\" font-size=\"14.00\">class = setosa</text>\n</g>\n<!-- 0&#45;&gt;1 -->\n<g id=\"edge1\" class=\"edge\">\n<title>0&#45;&gt;1</title>\n<path fill=\"none\" stroke=\"black\" d=\"M171.44,-698.91C163.93,-687.65 155.78,-675.42 148.24,-664.11\"/>\n<polygon fill=\"black\" stroke=\"black\" points=\"151.07,-662.05 142.61,-655.67 145.25,-665.93 151.07,-662.05\"/>\n<text text-anchor=\"middle\" x=\"137.71\" y=\"-676.48\" font-family=\"Helvetica,sans-Serif\" font-size=\"14.00\">True</text>\n</g>\n<!-- 2 -->\n<g id=\"node3\" class=\"node\">\n<title>2</title>\n<path fill=\"#f5fef9\" stroke=\"black\" d=\"M344,-663C344,-663 209,-663 209,-663 203,-663 197,-657 197,-651 197,-651 197,-592 197,-592 197,-586 203,-580 209,-580 209,-580 344,-580 344,-580 350,-580 356,-586 356,-592 356,-592 356,-651 356,-651 356,-657 350,-663 344,-663\"/>\n<text text-anchor=\"start\" x=\"205\" y=\"-647.8\" font-family=\"Helvetica,sans-Serif\" font-size=\"14.00\">petal length (cm) ≤ 4.75</text>\n<text text-anchor=\"start\" x=\"248.5\" y=\"-632.8\" font-family=\"Helvetica,sans-Serif\" font-size=\"14.00\">gini = 0.5</text>\n<text text-anchor=\"start\" x=\"235.5\" y=\"-617.8\" font-family=\"Helvetica,sans-Serif\" font-size=\"14.00\">samples = 80</text>\n<text text-anchor=\"start\" x=\"222\" y=\"-602.8\" font-family=\"Helvetica,sans-Serif\" font-size=\"14.00\">value = [0, 41, 39]</text>\n<text text-anchor=\"start\" x=\"224\" y=\"-587.8\" font-family=\"Helvetica,sans-Serif\" font-size=\"14.00\">class = versicolor</text>\n</g>\n<!-- 0&#45;&gt;2 -->\n<g id=\"edge2\" class=\"edge\">\n<title>0&#45;&gt;2</title>\n<path fill=\"none\" stroke=\"black\" d=\"M225.56,-698.91C231.43,-690.1 237.7,-680.7 243.76,-671.61\"/>\n<polygon fill=\"black\" stroke=\"black\" points=\"246.85,-673.28 249.49,-663.02 241.03,-669.4 246.85,-673.28\"/>\n<text text-anchor=\"middle\" x=\"254.39\" y=\"-683.84\" font-family=\"Helvetica,sans-Serif\" font-size=\"14.00\">False</text>\n</g>\n<!-- 3 -->\n<g id=\"node4\" class=\"node\">\n<title>3</title>\n<path fill=\"#3ee684\" stroke=\"black\" d=\"M255.5,-544C255.5,-544 125.5,-544 125.5,-544 119.5,-544 113.5,-538 113.5,-532 113.5,-532 113.5,-473 113.5,-473 113.5,-467 119.5,-461 125.5,-461 125.5,-461 255.5,-461 255.5,-461 261.5,-461 267.5,-467 267.5,-473 267.5,-473 267.5,-532 267.5,-532 267.5,-538 261.5,-544 255.5,-544\"/>\n<text text-anchor=\"start\" x=\"121.5\" y=\"-528.8\" font-family=\"Helvetica,sans-Serif\" font-size=\"14.00\">petal width (cm) ≤ 1.65</text>\n<text text-anchor=\"start\" x=\"155\" y=\"-513.8\" font-family=\"Helvetica,sans-Serif\" font-size=\"14.00\">gini = 0.053</text>\n<text text-anchor=\"start\" x=\"149.5\" y=\"-498.8\" font-family=\"Helvetica,sans-Serif\" font-size=\"14.00\">samples = 37</text>\n<text text-anchor=\"start\" x=\"140\" y=\"-483.8\" font-family=\"Helvetica,sans-Serif\" font-size=\"14.00\">value = [0, 36, 1]</text>\n<text text-anchor=\"start\" x=\"138\" y=\"-468.8\" font-family=\"Helvetica,sans-Serif\" font-size=\"14.00\">class = versicolor</text>\n</g>\n<!-- 2&#45;&gt;3 -->\n<g id=\"edge3\" class=\"edge\">\n<title>2&#45;&gt;3</title>\n<path fill=\"none\" stroke=\"black\" d=\"M246.66,-579.91C240.13,-571.01 233.14,-561.51 226.39,-552.33\"/>\n<polygon fill=\"black\" stroke=\"black\" points=\"229.03,-550.01 220.28,-544.02 223.39,-554.15 229.03,-550.01\"/>\n</g>\n<!-- 6 -->\n<g id=\"node7\" class=\"node\">\n<title>6</title>\n<path fill=\"#9253e8\" stroke=\"black\" d=\"M427.5,-544C427.5,-544 297.5,-544 297.5,-544 291.5,-544 285.5,-538 285.5,-532 285.5,-532 285.5,-473 285.5,-473 285.5,-467 291.5,-461 297.5,-461 297.5,-461 427.5,-461 427.5,-461 433.5,-461 439.5,-467 439.5,-473 439.5,-473 439.5,-532 439.5,-532 439.5,-538 433.5,-544 427.5,-544\"/>\n<text text-anchor=\"start\" x=\"293.5\" y=\"-528.8\" font-family=\"Helvetica,sans-Serif\" font-size=\"14.00\">petal width (cm) ≤ 1.75</text>\n<text text-anchor=\"start\" x=\"327\" y=\"-513.8\" font-family=\"Helvetica,sans-Serif\" font-size=\"14.00\">gini = 0.206</text>\n<text text-anchor=\"start\" x=\"321.5\" y=\"-498.8\" font-family=\"Helvetica,sans-Serif\" font-size=\"14.00\">samples = 43</text>\n<text text-anchor=\"start\" x=\"312\" y=\"-483.8\" font-family=\"Helvetica,sans-Serif\" font-size=\"14.00\">value = [0, 5, 38]</text>\n<text text-anchor=\"start\" x=\"314\" y=\"-468.8\" font-family=\"Helvetica,sans-Serif\" font-size=\"14.00\">class = virginica</text>\n</g>\n<!-- 2&#45;&gt;6 -->\n<g id=\"edge6\" class=\"edge\">\n<title>2&#45;&gt;6</title>\n<path fill=\"none\" stroke=\"black\" d=\"M306.34,-579.91C312.87,-571.01 319.86,-561.51 326.61,-552.33\"/>\n<polygon fill=\"black\" stroke=\"black\" points=\"329.61,-554.15 332.72,-544.02 323.97,-550.01 329.61,-554.15\"/>\n</g>\n<!-- 4 -->\n<g id=\"node5\" class=\"node\">\n<title>4</title>\n<path fill=\"#39e581\" stroke=\"black\" d=\"M109,-417.5C109,-417.5 12,-417.5 12,-417.5 6,-417.5 0,-411.5 0,-405.5 0,-405.5 0,-361.5 0,-361.5 0,-355.5 6,-349.5 12,-349.5 12,-349.5 109,-349.5 109,-349.5 115,-349.5 121,-355.5 121,-361.5 121,-361.5 121,-405.5 121,-405.5 121,-411.5 115,-417.5 109,-417.5\"/>\n<text text-anchor=\"start\" x=\"32.5\" y=\"-402.3\" font-family=\"Helvetica,sans-Serif\" font-size=\"14.00\">gini = 0.0</text>\n<text text-anchor=\"start\" x=\"19.5\" y=\"-387.3\" font-family=\"Helvetica,sans-Serif\" font-size=\"14.00\">samples = 36</text>\n<text text-anchor=\"start\" x=\"10\" y=\"-372.3\" font-family=\"Helvetica,sans-Serif\" font-size=\"14.00\">value = [0, 36, 0]</text>\n<text text-anchor=\"start\" x=\"8\" y=\"-357.3\" font-family=\"Helvetica,sans-Serif\" font-size=\"14.00\">class = versicolor</text>\n</g>\n<!-- 3&#45;&gt;4 -->\n<g id=\"edge4\" class=\"edge\">\n<title>3&#45;&gt;4</title>\n<path fill=\"none\" stroke=\"black\" d=\"M145.4,-460.91C132.28,-449.1 117.96,-436.22 104.89,-424.45\"/>\n<polygon fill=\"black\" stroke=\"black\" points=\"107.13,-421.76 97.35,-417.67 102.44,-426.96 107.13,-421.76\"/>\n</g>\n<!-- 5 -->\n<g id=\"node6\" class=\"node\">\n<title>5</title>\n<path fill=\"#8139e5\" stroke=\"black\" d=\"M240,-417.5C240,-417.5 151,-417.5 151,-417.5 145,-417.5 139,-411.5 139,-405.5 139,-405.5 139,-361.5 139,-361.5 139,-355.5 145,-349.5 151,-349.5 151,-349.5 240,-349.5 240,-349.5 246,-349.5 252,-355.5 252,-361.5 252,-361.5 252,-405.5 252,-405.5 252,-411.5 246,-417.5 240,-417.5\"/>\n<text text-anchor=\"start\" x=\"167.5\" y=\"-402.3\" font-family=\"Helvetica,sans-Serif\" font-size=\"14.00\">gini = 0.0</text>\n<text text-anchor=\"start\" x=\"158\" y=\"-387.3\" font-family=\"Helvetica,sans-Serif\" font-size=\"14.00\">samples = 1</text>\n<text text-anchor=\"start\" x=\"148.5\" y=\"-372.3\" font-family=\"Helvetica,sans-Serif\" font-size=\"14.00\">value = [0, 0, 1]</text>\n<text text-anchor=\"start\" x=\"147\" y=\"-357.3\" font-family=\"Helvetica,sans-Serif\" font-size=\"14.00\">class = virginica</text>\n</g>\n<!-- 3&#45;&gt;5 -->\n<g id=\"edge5\" class=\"edge\">\n<title>3&#45;&gt;5</title>\n<path fill=\"none\" stroke=\"black\" d=\"M192.23,-460.91C192.69,-450.2 193.19,-438.62 193.65,-427.78\"/>\n<polygon fill=\"black\" stroke=\"black\" points=\"197.15,-427.81 194.08,-417.67 190.16,-427.51 197.15,-427.81\"/>\n</g>\n<!-- 7 -->\n<g id=\"node8\" class=\"node\">\n<title>7</title>\n<path fill=\"#ffffff\" stroke=\"black\" d=\"M426,-425C426,-425 291,-425 291,-425 285,-425 279,-419 279,-413 279,-413 279,-354 279,-354 279,-348 285,-342 291,-342 291,-342 426,-342 426,-342 432,-342 438,-348 438,-354 438,-354 438,-413 438,-413 438,-419 432,-425 426,-425\"/>\n<text text-anchor=\"start\" x=\"287\" y=\"-409.8\" font-family=\"Helvetica,sans-Serif\" font-size=\"14.00\">petal length (cm) ≤ 4.95</text>\n<text text-anchor=\"start\" x=\"330.5\" y=\"-394.8\" font-family=\"Helvetica,sans-Serif\" font-size=\"14.00\">gini = 0.5</text>\n<text text-anchor=\"start\" x=\"321\" y=\"-379.8\" font-family=\"Helvetica,sans-Serif\" font-size=\"14.00\">samples = 8</text>\n<text text-anchor=\"start\" x=\"311.5\" y=\"-364.8\" font-family=\"Helvetica,sans-Serif\" font-size=\"14.00\">value = [0, 4, 4]</text>\n<text text-anchor=\"start\" x=\"306\" y=\"-349.8\" font-family=\"Helvetica,sans-Serif\" font-size=\"14.00\">class = versicolor</text>\n</g>\n<!-- 6&#45;&gt;7 -->\n<g id=\"edge7\" class=\"edge\">\n<title>6&#45;&gt;7</title>\n<path fill=\"none\" stroke=\"black\" d=\"M361.11,-460.91C360.83,-452.56 360.52,-443.67 360.23,-435.02\"/>\n<polygon fill=\"black\" stroke=\"black\" points=\"363.73,-434.9 359.89,-425.02 356.73,-435.13 363.73,-434.9\"/>\n</g>\n<!-- 14 -->\n<g id=\"node15\" class=\"node\">\n<title>14</title>\n<path fill=\"#853fe6\" stroke=\"black\" d=\"M603,-425C603,-425 468,-425 468,-425 462,-425 456,-419 456,-413 456,-413 456,-354 456,-354 456,-348 462,-342 468,-342 468,-342 603,-342 603,-342 609,-342 615,-348 615,-354 615,-354 615,-413 615,-413 615,-419 609,-425 603,-425\"/>\n<text text-anchor=\"start\" x=\"464\" y=\"-409.8\" font-family=\"Helvetica,sans-Serif\" font-size=\"14.00\">petal length (cm) ≤ 4.85</text>\n<text text-anchor=\"start\" x=\"500\" y=\"-394.8\" font-family=\"Helvetica,sans-Serif\" font-size=\"14.00\">gini = 0.056</text>\n<text text-anchor=\"start\" x=\"494.5\" y=\"-379.8\" font-family=\"Helvetica,sans-Serif\" font-size=\"14.00\">samples = 35</text>\n<text text-anchor=\"start\" x=\"485\" y=\"-364.8\" font-family=\"Helvetica,sans-Serif\" font-size=\"14.00\">value = [0, 1, 34]</text>\n<text text-anchor=\"start\" x=\"487\" y=\"-349.8\" font-family=\"Helvetica,sans-Serif\" font-size=\"14.00\">class = virginica</text>\n</g>\n<!-- 6&#45;&gt;14 -->\n<g id=\"edge14\" class=\"edge\">\n<title>6&#45;&gt;14</title>\n<path fill=\"none\" stroke=\"black\" d=\"M422.52,-460.91C436.88,-451.2 452.31,-440.76 467.02,-430.81\"/>\n<polygon fill=\"black\" stroke=\"black\" points=\"469.26,-433.52 475.58,-425.02 465.34,-427.72 469.26,-433.52\"/>\n</g>\n<!-- 8 -->\n<g id=\"node9\" class=\"node\">\n<title>8</title>\n<path fill=\"#39e581\" stroke=\"black\" d=\"M254,-298.5C254,-298.5 157,-298.5 157,-298.5 151,-298.5 145,-292.5 145,-286.5 145,-286.5 145,-242.5 145,-242.5 145,-236.5 151,-230.5 157,-230.5 157,-230.5 254,-230.5 254,-230.5 260,-230.5 266,-236.5 266,-242.5 266,-242.5 266,-286.5 266,-286.5 266,-292.5 260,-298.5 254,-298.5\"/>\n<text text-anchor=\"start\" x=\"177.5\" y=\"-283.3\" font-family=\"Helvetica,sans-Serif\" font-size=\"14.00\">gini = 0.0</text>\n<text text-anchor=\"start\" x=\"168\" y=\"-268.3\" font-family=\"Helvetica,sans-Serif\" font-size=\"14.00\">samples = 2</text>\n<text text-anchor=\"start\" x=\"158.5\" y=\"-253.3\" font-family=\"Helvetica,sans-Serif\" font-size=\"14.00\">value = [0, 2, 0]</text>\n<text text-anchor=\"start\" x=\"153\" y=\"-238.3\" font-family=\"Helvetica,sans-Serif\" font-size=\"14.00\">class = versicolor</text>\n</g>\n<!-- 7&#45;&gt;8 -->\n<g id=\"edge8\" class=\"edge\">\n<title>7&#45;&gt;8</title>\n<path fill=\"none\" stroke=\"black\" d=\"M305.42,-341.91C289.69,-329.88 272.5,-316.73 256.88,-304.79\"/>\n<polygon fill=\"black\" stroke=\"black\" points=\"258.94,-301.96 248.87,-298.67 254.69,-307.52 258.94,-301.96\"/>\n</g>\n<!-- 9 -->\n<g id=\"node10\" class=\"node\">\n<title>9</title>\n<path fill=\"#c09cf2\" stroke=\"black\" d=\"M426.5,-306C426.5,-306 296.5,-306 296.5,-306 290.5,-306 284.5,-300 284.5,-294 284.5,-294 284.5,-235 284.5,-235 284.5,-229 290.5,-223 296.5,-223 296.5,-223 426.5,-223 426.5,-223 432.5,-223 438.5,-229 438.5,-235 438.5,-235 438.5,-294 438.5,-294 438.5,-300 432.5,-306 426.5,-306\"/>\n<text text-anchor=\"start\" x=\"292.5\" y=\"-290.8\" font-family=\"Helvetica,sans-Serif\" font-size=\"14.00\">petal width (cm) ≤ 1.55</text>\n<text text-anchor=\"start\" x=\"326\" y=\"-275.8\" font-family=\"Helvetica,sans-Serif\" font-size=\"14.00\">gini = 0.444</text>\n<text text-anchor=\"start\" x=\"324\" y=\"-260.8\" font-family=\"Helvetica,sans-Serif\" font-size=\"14.00\">samples = 6</text>\n<text text-anchor=\"start\" x=\"314.5\" y=\"-245.8\" font-family=\"Helvetica,sans-Serif\" font-size=\"14.00\">value = [0, 2, 4]</text>\n<text text-anchor=\"start\" x=\"313\" y=\"-230.8\" font-family=\"Helvetica,sans-Serif\" font-size=\"14.00\">class = virginica</text>\n</g>\n<!-- 7&#45;&gt;9 -->\n<g id=\"edge9\" class=\"edge\">\n<title>7&#45;&gt;9</title>\n<path fill=\"none\" stroke=\"black\" d=\"M359.54,-341.91C359.75,-333.56 359.98,-324.67 360.2,-316.02\"/>\n<polygon fill=\"black\" stroke=\"black\" points=\"363.7,-316.11 360.46,-306.02 356.71,-315.93 363.7,-316.11\"/>\n</g>\n<!-- 10 -->\n<g id=\"node11\" class=\"node\">\n<title>10</title>\n<path fill=\"#8139e5\" stroke=\"black\" d=\"M256,-179.5C256,-179.5 167,-179.5 167,-179.5 161,-179.5 155,-173.5 155,-167.5 155,-167.5 155,-123.5 155,-123.5 155,-117.5 161,-111.5 167,-111.5 167,-111.5 256,-111.5 256,-111.5 262,-111.5 268,-117.5 268,-123.5 268,-123.5 268,-167.5 268,-167.5 268,-173.5 262,-179.5 256,-179.5\"/>\n<text text-anchor=\"start\" x=\"183.5\" y=\"-164.3\" font-family=\"Helvetica,sans-Serif\" font-size=\"14.00\">gini = 0.0</text>\n<text text-anchor=\"start\" x=\"174\" y=\"-149.3\" font-family=\"Helvetica,sans-Serif\" font-size=\"14.00\">samples = 3</text>\n<text text-anchor=\"start\" x=\"164.5\" y=\"-134.3\" font-family=\"Helvetica,sans-Serif\" font-size=\"14.00\">value = [0, 0, 3]</text>\n<text text-anchor=\"start\" x=\"163\" y=\"-119.3\" font-family=\"Helvetica,sans-Serif\" font-size=\"14.00\">class = virginica</text>\n</g>\n<!-- 9&#45;&gt;10 -->\n<g id=\"edge10\" class=\"edge\">\n<title>9&#45;&gt;10</title>\n<path fill=\"none\" stroke=\"black\" d=\"M309.46,-222.91C294.18,-210.99 277.49,-197.98 262.29,-186.12\"/>\n<polygon fill=\"black\" stroke=\"black\" points=\"264.06,-183.06 254.02,-179.67 259.75,-188.58 264.06,-183.06\"/>\n</g>\n<!-- 11 -->\n<g id=\"node12\" class=\"node\">\n<title>11</title>\n<path fill=\"#9cf2c0\" stroke=\"black\" d=\"M433,-187C433,-187 298,-187 298,-187 292,-187 286,-181 286,-175 286,-175 286,-116 286,-116 286,-110 292,-104 298,-104 298,-104 433,-104 433,-104 439,-104 445,-110 445,-116 445,-116 445,-175 445,-175 445,-181 439,-187 433,-187\"/>\n<text text-anchor=\"start\" x=\"294\" y=\"-171.8\" font-family=\"Helvetica,sans-Serif\" font-size=\"14.00\">petal length (cm) ≤ 5.45</text>\n<text text-anchor=\"start\" x=\"330\" y=\"-156.8\" font-family=\"Helvetica,sans-Serif\" font-size=\"14.00\">gini = 0.444</text>\n<text text-anchor=\"start\" x=\"328\" y=\"-141.8\" font-family=\"Helvetica,sans-Serif\" font-size=\"14.00\">samples = 3</text>\n<text text-anchor=\"start\" x=\"318.5\" y=\"-126.8\" font-family=\"Helvetica,sans-Serif\" font-size=\"14.00\">value = [0, 2, 1]</text>\n<text text-anchor=\"start\" x=\"313\" y=\"-111.8\" font-family=\"Helvetica,sans-Serif\" font-size=\"14.00\">class = versicolor</text>\n</g>\n<!-- 9&#45;&gt;11 -->\n<g id=\"edge11\" class=\"edge\">\n<title>9&#45;&gt;11</title>\n<path fill=\"none\" stroke=\"black\" d=\"M362.89,-222.91C363.17,-214.56 363.48,-205.67 363.77,-197.02\"/>\n<polygon fill=\"black\" stroke=\"black\" points=\"367.27,-197.13 364.11,-187.02 360.27,-196.9 367.27,-197.13\"/>\n</g>\n<!-- 12 -->\n<g id=\"node13\" class=\"node\">\n<title>12</title>\n<path fill=\"#39e581\" stroke=\"black\" d=\"M347,-68C347,-68 250,-68 250,-68 244,-68 238,-62 238,-56 238,-56 238,-12 238,-12 238,-6 244,0 250,0 250,0 347,0 347,0 353,0 359,-6 359,-12 359,-12 359,-56 359,-56 359,-62 353,-68 347,-68\"/>\n<text text-anchor=\"start\" x=\"270.5\" y=\"-52.8\" font-family=\"Helvetica,sans-Serif\" font-size=\"14.00\">gini = 0.0</text>\n<text text-anchor=\"start\" x=\"261\" y=\"-37.8\" font-family=\"Helvetica,sans-Serif\" font-size=\"14.00\">samples = 2</text>\n<text text-anchor=\"start\" x=\"251.5\" y=\"-22.8\" font-family=\"Helvetica,sans-Serif\" font-size=\"14.00\">value = [0, 2, 0]</text>\n<text text-anchor=\"start\" x=\"246\" y=\"-7.8\" font-family=\"Helvetica,sans-Serif\" font-size=\"14.00\">class = versicolor</text>\n</g>\n<!-- 11&#45;&gt;12 -->\n<g id=\"edge12\" class=\"edge\">\n<title>11&#45;&gt;12</title>\n<path fill=\"none\" stroke=\"black\" d=\"M340.55,-103.73C335.19,-94.97 329.52,-85.7 324.14,-76.91\"/>\n<polygon fill=\"black\" stroke=\"black\" points=\"327.08,-75 318.88,-68.3 321.11,-78.66 327.08,-75\"/>\n</g>\n<!-- 13 -->\n<g id=\"node14\" class=\"node\">\n<title>13</title>\n<path fill=\"#8139e5\" stroke=\"black\" d=\"M478,-68C478,-68 389,-68 389,-68 383,-68 377,-62 377,-56 377,-56 377,-12 377,-12 377,-6 383,0 389,0 389,0 478,0 478,0 484,0 490,-6 490,-12 490,-12 490,-56 490,-56 490,-62 484,-68 478,-68\"/>\n<text text-anchor=\"start\" x=\"405.5\" y=\"-52.8\" font-family=\"Helvetica,sans-Serif\" font-size=\"14.00\">gini = 0.0</text>\n<text text-anchor=\"start\" x=\"396\" y=\"-37.8\" font-family=\"Helvetica,sans-Serif\" font-size=\"14.00\">samples = 1</text>\n<text text-anchor=\"start\" x=\"386.5\" y=\"-22.8\" font-family=\"Helvetica,sans-Serif\" font-size=\"14.00\">value = [0, 0, 1]</text>\n<text text-anchor=\"start\" x=\"385\" y=\"-7.8\" font-family=\"Helvetica,sans-Serif\" font-size=\"14.00\">class = virginica</text>\n</g>\n<!-- 11&#45;&gt;13 -->\n<g id=\"edge13\" class=\"edge\">\n<title>11&#45;&gt;13</title>\n<path fill=\"none\" stroke=\"black\" d=\"M390.82,-103.73C396.26,-94.97 402.01,-85.7 407.48,-76.91\"/>\n<polygon fill=\"black\" stroke=\"black\" points=\"410.52,-78.64 412.82,-68.3 404.57,-74.95 410.52,-78.64\"/>\n</g>\n<!-- 15 -->\n<g id=\"node16\" class=\"node\">\n<title>15</title>\n<path fill=\"#c09cf2\" stroke=\"black\" d=\"M596,-306C596,-306 471,-306 471,-306 465,-306 459,-300 459,-294 459,-294 459,-235 459,-235 459,-229 465,-223 471,-223 471,-223 596,-223 596,-223 602,-223 608,-229 608,-235 608,-235 608,-294 608,-294 608,-300 602,-306 596,-306\"/>\n<text text-anchor=\"start\" x=\"467\" y=\"-290.8\" font-family=\"Helvetica,sans-Serif\" font-size=\"14.00\">sepal width (cm) ≤ 3.1</text>\n<text text-anchor=\"start\" x=\"498\" y=\"-275.8\" font-family=\"Helvetica,sans-Serif\" font-size=\"14.00\">gini = 0.444</text>\n<text text-anchor=\"start\" x=\"496\" y=\"-260.8\" font-family=\"Helvetica,sans-Serif\" font-size=\"14.00\">samples = 3</text>\n<text text-anchor=\"start\" x=\"486.5\" y=\"-245.8\" font-family=\"Helvetica,sans-Serif\" font-size=\"14.00\">value = [0, 1, 2]</text>\n<text text-anchor=\"start\" x=\"485\" y=\"-230.8\" font-family=\"Helvetica,sans-Serif\" font-size=\"14.00\">class = virginica</text>\n</g>\n<!-- 14&#45;&gt;15 -->\n<g id=\"edge15\" class=\"edge\">\n<title>14&#45;&gt;15</title>\n<path fill=\"none\" stroke=\"black\" d=\"M534.81,-341.91C534.66,-333.56 534.51,-324.67 534.36,-316.02\"/>\n<polygon fill=\"black\" stroke=\"black\" points=\"537.86,-315.96 534.19,-306.02 530.86,-316.08 537.86,-315.96\"/>\n</g>\n<!-- 18 -->\n<g id=\"node19\" class=\"node\">\n<title>18</title>\n<path fill=\"#8139e5\" stroke=\"black\" d=\"M731,-298.5C731,-298.5 638,-298.5 638,-298.5 632,-298.5 626,-292.5 626,-286.5 626,-286.5 626,-242.5 626,-242.5 626,-236.5 632,-230.5 638,-230.5 638,-230.5 731,-230.5 731,-230.5 737,-230.5 743,-236.5 743,-242.5 743,-242.5 743,-286.5 743,-286.5 743,-292.5 737,-298.5 731,-298.5\"/>\n<text text-anchor=\"start\" x=\"656.5\" y=\"-283.3\" font-family=\"Helvetica,sans-Serif\" font-size=\"14.00\">gini = 0.0</text>\n<text text-anchor=\"start\" x=\"643.5\" y=\"-268.3\" font-family=\"Helvetica,sans-Serif\" font-size=\"14.00\">samples = 32</text>\n<text text-anchor=\"start\" x=\"634\" y=\"-253.3\" font-family=\"Helvetica,sans-Serif\" font-size=\"14.00\">value = [0, 0, 32]</text>\n<text text-anchor=\"start\" x=\"636\" y=\"-238.3\" font-family=\"Helvetica,sans-Serif\" font-size=\"14.00\">class = virginica</text>\n</g>\n<!-- 14&#45;&gt;18 -->\n<g id=\"edge18\" class=\"edge\">\n<title>14&#45;&gt;18</title>\n<path fill=\"none\" stroke=\"black\" d=\"M587.19,-341.91C602.37,-329.99 618.95,-316.98 634.04,-305.12\"/>\n<polygon fill=\"black\" stroke=\"black\" points=\"636.56,-307.6 642.26,-298.67 632.24,-302.09 636.56,-307.6\"/>\n</g>\n<!-- 16 -->\n<g id=\"node17\" class=\"node\">\n<title>16</title>\n<path fill=\"#8139e5\" stroke=\"black\" d=\"M575,-179.5C575,-179.5 486,-179.5 486,-179.5 480,-179.5 474,-173.5 474,-167.5 474,-167.5 474,-123.5 474,-123.5 474,-117.5 480,-111.5 486,-111.5 486,-111.5 575,-111.5 575,-111.5 581,-111.5 587,-117.5 587,-123.5 587,-123.5 587,-167.5 587,-167.5 587,-173.5 581,-179.5 575,-179.5\"/>\n<text text-anchor=\"start\" x=\"502.5\" y=\"-164.3\" font-family=\"Helvetica,sans-Serif\" font-size=\"14.00\">gini = 0.0</text>\n<text text-anchor=\"start\" x=\"493\" y=\"-149.3\" font-family=\"Helvetica,sans-Serif\" font-size=\"14.00\">samples = 2</text>\n<text text-anchor=\"start\" x=\"483.5\" y=\"-134.3\" font-family=\"Helvetica,sans-Serif\" font-size=\"14.00\">value = [0, 0, 2]</text>\n<text text-anchor=\"start\" x=\"482\" y=\"-119.3\" font-family=\"Helvetica,sans-Serif\" font-size=\"14.00\">class = virginica</text>\n</g>\n<!-- 15&#45;&gt;16 -->\n<g id=\"edge16\" class=\"edge\">\n<title>15&#45;&gt;16</title>\n<path fill=\"none\" stroke=\"black\" d=\"M532.46,-222.91C532.18,-212.2 531.89,-200.62 531.61,-189.78\"/>\n<polygon fill=\"black\" stroke=\"black\" points=\"535.11,-189.57 531.35,-179.67 528.11,-189.75 535.11,-189.57\"/>\n</g>\n<!-- 17 -->\n<g id=\"node18\" class=\"node\">\n<title>17</title>\n<path fill=\"#39e581\" stroke=\"black\" d=\"M714,-179.5C714,-179.5 617,-179.5 617,-179.5 611,-179.5 605,-173.5 605,-167.5 605,-167.5 605,-123.5 605,-123.5 605,-117.5 611,-111.5 617,-111.5 617,-111.5 714,-111.5 714,-111.5 720,-111.5 726,-117.5 726,-123.5 726,-123.5 726,-167.5 726,-167.5 726,-173.5 720,-179.5 714,-179.5\"/>\n<text text-anchor=\"start\" x=\"637.5\" y=\"-164.3\" font-family=\"Helvetica,sans-Serif\" font-size=\"14.00\">gini = 0.0</text>\n<text text-anchor=\"start\" x=\"628\" y=\"-149.3\" font-family=\"Helvetica,sans-Serif\" font-size=\"14.00\">samples = 1</text>\n<text text-anchor=\"start\" x=\"618.5\" y=\"-134.3\" font-family=\"Helvetica,sans-Serif\" font-size=\"14.00\">value = [0, 1, 0]</text>\n<text text-anchor=\"start\" x=\"613\" y=\"-119.3\" font-family=\"Helvetica,sans-Serif\" font-size=\"14.00\">class = versicolor</text>\n</g>\n<!-- 15&#45;&gt;17 -->\n<g id=\"edge17\" class=\"edge\">\n<title>15&#45;&gt;17</title>\n<path fill=\"none\" stroke=\"black\" d=\"M579.3,-222.91C592.62,-211.1 607.15,-198.22 620.43,-186.45\"/>\n<polygon fill=\"black\" stroke=\"black\" points=\"622.92,-188.92 628.08,-179.67 618.28,-183.68 622.92,-188.92\"/>\n</g>\n</g>\n</svg>\n",
            "text/plain": [
              "<graphviz.sources.Source at 0x78a7443bb950>"
            ]
          },
          "metadata": {},
          "execution_count": 6
        }
      ]
    },
    {
      "cell_type": "markdown",
      "source": [
        "Ques21. Write a Python program to train a Decision Tree Classifier with a maximum depth of 3 and compare its accuracy with a fully grown tree ."
      ],
      "metadata": {
        "id": "zE6QrkYIvK2_"
      }
    },
    {
      "cell_type": "code",
      "source": [
        "# Train a Decision Tree Classifier with max_depth=3\n",
        "clf_limited_depth = DecisionTreeClassifier(max_depth=3, random_state=42)\n",
        "clf_limited_depth.fit(X_train, y_train)\n",
        "\n",
        "# Make predictions and calculate accuracy for the limited depth tree\n",
        "y_pred_limited = clf_limited_depth.predict(X_test)\n",
        "accuracy_limited = accuracy_score(y_test, y_pred_limited)\n",
        "print(f\"\\nAccuracy of Decision Tree with max_depth=3: {accuracy_limited:.2f}\")\n",
        "\n",
        "# Accuracy of the fully grown tree (from Q16, default DecisionTreeClassifier)\n",
        "# The default classifier in Q16 allows the tree to grow fully\n",
        "# clf is the fully grown tree classifier trained earlier\n",
        "\n",
        "y_pred_full = clf.predict(X_test)\n",
        "accuracy_full = accuracy_score(y_test, y_pred_full)\n",
        "print(f\"Accuracy of Fully Grown Decision Tree: {accuracy_full:.2f}\")\n",
        "\n",
        "# Comparison\n",
        "print(\"\\nComparison:\")\n",
        "print(f\"Accuracy difference (Full - Limited): {accuracy_full - accuracy_limited:.2f}\")"
      ],
      "metadata": {
        "colab": {
          "base_uri": "https://localhost:8080/"
        },
        "id": "12DAg20PvSPG",
        "outputId": "fffe12e0-bc3d-49cd-c048-d80de077be7b"
      },
      "execution_count": 8,
      "outputs": [
        {
          "output_type": "stream",
          "name": "stdout",
          "text": [
            "\n",
            "Accuracy of Decision Tree with max_depth=3: 1.00\n",
            "Accuracy of Fully Grown Decision Tree: 1.00\n",
            "\n",
            "Comparison:\n",
            "Accuracy difference (Full - Limited): 0.00\n"
          ]
        }
      ]
    },
    {
      "cell_type": "markdown",
      "source": [
        "Ques22. Write a Python program to train a Decision Tree Classifier using min_samples_split=5 and compare its accuracy with a default tree ."
      ],
      "metadata": {
        "id": "_aDFDng_vtOu"
      }
    },
    {
      "cell_type": "code",
      "source": [
        "# Train a Decision Tree Classifier with min_samples_split=5\n",
        "clf_min_samples_split = DecisionTreeClassifier(min_samples_split=5, random_state=42)\n",
        "clf_min_samples_split.fit(X_train, y_train)\n",
        "\n",
        "# Make predictions and calculate accuracy for the tree with min_samples_split=5\n",
        "y_pred_min_samples_split = clf_min_samples_split.predict(X_test)\n",
        "accuracy_min_samples_split = accuracy_score(y_test, y_pred_min_samples_split)\n",
        "print(f\"\\nAccuracy of Decision Tree with min_samples_split=5: {accuracy_min_samples_split:.2f}\")\n",
        "\n",
        "# Accuracy of the default tree (from Q16, default DecisionTreeClassifier)\n",
        "# clf is the default DecisionTreeClassifier trained earlier\n",
        "\n",
        "y_pred_default = clf.predict(X_test)\n",
        "accuracy_default = accuracy_score(y_test, y_pred_default)\n",
        "print(f\"Accuracy of Default Decision Tree: {accuracy_default:.2f}\")\n",
        "\n",
        "# Comparison\n",
        "print(\"\\nComparison:\")\n",
        "print(f\"Accuracy difference (Default - min_samples_split=5): {accuracy_default - accuracy_min_samples_split:.2f}\")"
      ],
      "metadata": {
        "colab": {
          "base_uri": "https://localhost:8080/"
        },
        "id": "brzHBCvUvyj1",
        "outputId": "5e4076c4-a167-4696-8afa-f84cbcb91a98"
      },
      "execution_count": 9,
      "outputs": [
        {
          "output_type": "stream",
          "name": "stdout",
          "text": [
            "\n",
            "Accuracy of Decision Tree with min_samples_split=5: 1.00\n",
            "Accuracy of Default Decision Tree: 1.00\n",
            "\n",
            "Comparison:\n",
            "Accuracy difference (Default - min_samples_split=5): 0.00\n"
          ]
        }
      ]
    },
    {
      "cell_type": "markdown",
      "source": [
        "Ques23. Write a Python program to apply feature scaling before training a Decision Tree Classifier and compare its accuracy with unscaled data."
      ],
      "metadata": {
        "id": "ub4wHciZv7GW"
      }
    },
    {
      "cell_type": "code",
      "source": [
        "from sklearn.preprocessing import StandardScaler\n",
        "\n",
        "# Apply StandardScaler to the data\n",
        "scaler = StandardScaler()\n",
        "X_scaled = scaler.fit_transform(X)\n",
        "\n",
        "# Split the scaled dataset into training and testing sets\n",
        "X_train_scaled, X_test_scaled, y_train_scaled, y_test_scaled = train_test_split(X_scaled, y, test_size=0.2, random_state=42)\n",
        "\n",
        "# Train a Decision Tree Classifier on the scaled data\n",
        "clf_scaled = DecisionTreeClassifier(random_state=42)\n",
        "clf_scaled.fit(X_train_scaled, y_train_scaled)\n",
        "\n",
        "# Make predictions and calculate accuracy on the scaled data\n",
        "y_pred_scaled = clf_scaled.predict(X_test_scaled)\n",
        "accuracy_scaled = accuracy_score(y_test_scaled, y_pred_scaled)\n",
        "print(f\"\\nAccuracy of Decision Tree Classifier on Scaled Data: {accuracy_scaled:.2f}\")\n",
        "\n",
        "# Accuracy of the Decision Tree Classifier on unscaled data (from Q16)\n",
        "# clf is the classifier trained on unscaled data earlier\n",
        "y_pred_unscaled = clf.predict(X_test)\n",
        "accuracy_unscaled = accuracy_score(y_test, y_pred_unscaled)\n",
        "print(f\"Accuracy of Decision Tree Classifier on Unscaled Data: {accuracy_unscaled:.2f}\")\n",
        "\n",
        "# Comparison\n",
        "print(\"\\nComparison:\")\n",
        "print(f\"Accuracy difference (Scaled - Unscaled): {accuracy_scaled - accuracy_unscaled:.2f}\")\n",
        "\n",
        "# Note: Decision Trees are generally not sensitive to feature scaling because\n",
        "# their split decisions are based on individual feature values and not distances\n",
        "# or magnitudes. You will often find that the accuracy is the same or very similar.\n",
        "# This code demonstrates the process of scaling and comparing, but the result\n",
        "# highlights a property of Decision Trees."
      ],
      "metadata": {
        "colab": {
          "base_uri": "https://localhost:8080/"
        },
        "id": "XXnUluMvv-23",
        "outputId": "4c74bd03-a528-449d-da35-0cb39b702670"
      },
      "execution_count": 10,
      "outputs": [
        {
          "output_type": "stream",
          "name": "stdout",
          "text": [
            "\n",
            "Accuracy of Decision Tree Classifier on Scaled Data: 1.00\n",
            "Accuracy of Decision Tree Classifier on Unscaled Data: 1.00\n",
            "\n",
            "Comparison:\n",
            "Accuracy difference (Scaled - Unscaled): 0.00\n"
          ]
        }
      ]
    },
    {
      "cell_type": "markdown",
      "source": [
        "Ques24. Write a Python program to train a Decision Tree Classifier using One-vs-Rest (OvR) strategy for multiclass classification ."
      ],
      "metadata": {
        "id": "D4DJSv1TwICl"
      }
    },
    {
      "cell_type": "code",
      "source": [
        "from sklearn.multiclass import OneVsRestClassifier\n",
        "\n",
        "# Create a Decision Tree Classifier\n",
        "dt_classifier = DecisionTreeClassifier(random_state=42)\n",
        "\n",
        "# Create the One-vs-Rest Classifier using the Decision Tree\n",
        "ovr_classifier = OneVsRestClassifier(dt_classifier)\n",
        "\n",
        "# Train the OvR Decision Tree Classifier\n",
        "ovr_classifier.fit(X_train, y_train)\n",
        "\n",
        "# Make predictions on the test set\n",
        "y_pred_ovr = ovr_classifier.predict(X_test)\n",
        "\n",
        "# Calculate and print the accuracy\n",
        "accuracy_ovr = accuracy_score(y_test, y_pred_ovr)\n",
        "print(f\"\\nAccuracy of the One-vs-Rest Decision Tree Classifier on the Iris dataset: {accuracy_ovr:.2f}\")\n",
        "\n"
      ],
      "metadata": {
        "colab": {
          "base_uri": "https://localhost:8080/"
        },
        "id": "GszXCAK5wL3e",
        "outputId": "c81d6572-b86b-49fa-9ae4-f147e838ac2b"
      },
      "execution_count": 11,
      "outputs": [
        {
          "output_type": "stream",
          "name": "stdout",
          "text": [
            "\n",
            "Accuracy of the One-vs-Rest Decision Tree Classifier on the Iris dataset: 1.00\n"
          ]
        }
      ]
    },
    {
      "cell_type": "markdown",
      "source": [
        "Ques25.Write a Python program to train a Decision Tree Classifier and display the feature importance scores ."
      ],
      "metadata": {
        "id": "WKZmleuhwQ7_"
      }
    },
    {
      "cell_type": "code",
      "source": [
        "import pandas as pd\n",
        "from sklearn.datasets import load_iris\n",
        "from sklearn.tree import DecisionTreeClassifier\n",
        "from sklearn.model_selection import train_test_split\n",
        "\n",
        "# 1. Load a sample dataset (e.g., Iris dataset)\n",
        "iris = load_iris()\n",
        "X = iris.data\n",
        "y = iris.target\n",
        "feature_names = iris.feature_names\n",
        "\n",
        "# 2. Split the dataset into training and testing sets\n",
        "X_train, X_test, y_train, y_test = train_test_split(X, y, test_size=0.3, random_state=42)\n",
        "\n",
        "# 3. Initialize and train the Decision Tree Classifier\n",
        "dt_classifier = DecisionTreeClassifier(random_state=42)\n",
        "dt_classifier.fit(X_train, y_train)\n",
        "\n",
        "# 4. Access and display feature importance scores\n",
        "# The feature_importances_ attribute returns an array of scores,\n",
        "# where each score corresponds to the importance of a feature.\n",
        "feature_importances = dt_classifier.feature_importances_\n",
        "\n",
        "# Create a DataFrame for better visualization\n",
        "importance_df = pd.DataFrame({'Feature': feature_names, 'Importance': feature_importances})\n",
        "importance_df = importance_df.sort_values(by='Importance', ascending=False)\n",
        "\n",
        "print(\"Feature Importance Scores:\")\n",
        "print(importance_df)"
      ],
      "metadata": {
        "colab": {
          "base_uri": "https://localhost:8080/"
        },
        "id": "aWPn2j0Awqz9",
        "outputId": "6e242966-516b-419e-a1db-91d11bb93dfe"
      },
      "execution_count": 13,
      "outputs": [
        {
          "output_type": "stream",
          "name": "stdout",
          "text": [
            "Feature Importance Scores:\n",
            "             Feature  Importance\n",
            "2  petal length (cm)    0.893264\n",
            "3   petal width (cm)    0.087626\n",
            "1   sepal width (cm)    0.019110\n",
            "0  sepal length (cm)    0.000000\n"
          ]
        }
      ]
    },
    {
      "cell_type": "markdown",
      "source": [
        "Ques26. Write a Python program to train a Decision Tree Regressor with max_depth=5 and compare its performance with an unrestricted tree."
      ],
      "metadata": {
        "id": "LDI8hj-uxCRw"
      }
    },
    {
      "cell_type": "code",
      "source": [
        "# Train a Decision Tree Regressor with max_depth=5\n",
        "regressor_limited_depth = DecisionTreeRegressor(max_depth=5, random_state=42)\n",
        "regressor_limited_depth.fit(X_train_housing, y_train_housing)\n",
        "\n",
        "# Make predictions and calculate MSE for the limited depth regressor\n",
        "y_pred_limited_housing = regressor_limited_depth.predict(X_test_housing)\n",
        "mse_limited = mean_squared_error(y_test_housing, y_pred_limited_housing)\n",
        "print(f\"\\nMean Squared Error (MSE) of Decision Tree Regressor with max_depth=5: {mse_limited:.4f}\")\n",
        "\n",
        "# MSE of the unrestricted tree (from Q19)\n",
        "# regressor is the unrestricted DecisionTreeRegressor trained earlier\n",
        "\n",
        "y_pred_full_housing = regressor.predict(X_test_housing)\n",
        "mse_full = mean_squared_error(y_test_housing, y_pred_full_housing)\n",
        "print(f\"Mean Squared Error (MSE) of Unrestricted Decision Tree Regressor: {mse_full:.4f}\")\n",
        "\n",
        "# Comparison\n",
        "print(\"\\nComparison:\")\n",
        "print(f\"MSE difference (Unrestricted - max_depth=5): {mse_full - mse_limited:.4f}\")\n",
        "\n",
        "# Lower MSE indicates better performance. Usually, a limited depth tree\n",
        "# will have a higher (worse) MSE on the training data compared to an\n",
        "# unrestricted tree, but it might perform better (lower MSE) on unseen\n",
        "# test data if the unrestricted tree is overfitting. In this specific run\n",
        "# on the California Housing dataset, the unrestricted tree often performs\n",
        "# slightly better on the test set as well, suggesting overfitting isn't severe\n",
        "# with default parameters, but limiting depth acts as a form of regularization."
      ],
      "metadata": {
        "colab": {
          "base_uri": "https://localhost:8080/"
        },
        "id": "8wab3IWmxLWG",
        "outputId": "8ff8df25-8b37-4188-dc8d-35faf0ea3602"
      },
      "execution_count": 15,
      "outputs": [
        {
          "output_type": "stream",
          "name": "stdout",
          "text": [
            "\n",
            "Mean Squared Error (MSE) of Decision Tree Regressor with max_depth=5: 0.5245\n",
            "Mean Squared Error (MSE) of Unrestricted Decision Tree Regressor: 0.4952\n",
            "\n",
            "Comparison:\n",
            "MSE difference (Unrestricted - max_depth=5): -0.0293\n"
          ]
        }
      ]
    },
    {
      "cell_type": "markdown",
      "source": [
        "Ques27. Write a Python program to train a Decision Tree Classifier, apply Cost Complexity Pruning (CCP), and visualize its effect on accuracy ."
      ],
      "metadata": {
        "id": "1MIMpLjCxUyQ"
      }
    },
    {
      "cell_type": "code",
      "source": [
        "import matplotlib.pyplot as plt\n",
        "\n",
        "# 1. Get the complexity path\n",
        "# The cost_complexity_pruning_path method returns the effective alphas and the corresponding total impurity of the leaves\n",
        "path = clf.cost_complexity_pruning_path(X_train, y_train)\n",
        "ccp_alphas, impurities = path.ccp_alphas, path.impurities\n",
        "\n",
        "# Remove the trivial 0 alpha (which corresponds to the unpruned tree)\n",
        "ccp_alphas = ccp_alphas[:-1] # Exclude the maximum alpha\n",
        "impurities = impurities[:-1] # Exclude the corresponding maximum impurity\n",
        "\n",
        "# 2. Train a decision tree for each alpha value\n",
        "clfs = []\n",
        "for ccp_alpha in ccp_alphas:\n",
        "  clf = DecisionTreeClassifier(random_state=0, ccp_alpha=ccp_alpha)\n",
        "  clf.fit(X_train, y_train)\n",
        "  clfs.append(clf)\n",
        "\n",
        "# 3. Evaluate the accuracy of each tree on the test set\n",
        "accuracies = []\n",
        "for clf in clfs:\n",
        "  y_pred = clf.predict(X_test)\n",
        "  accuracy = accuracy_score(y_test, y_pred)\n",
        "  accuracies.append(accuracy)\n",
        "\n",
        "# Add the accuracy of the unpruned tree (ccp_alpha = 0) for comparison\n",
        "# Using the clf from Q16 which is a default, unpruned tree\n",
        "unpruned_accuracy = accuracy_score(y_test, clf.predict(X_test)) # Using the last clf in the list which has the largest alpha\n",
        "accuracies.append(unpruned_accuracy)\n",
        "ccp_alphas_with_unpruned = list(ccp_alphas) + [ccp_alphas[-1] + 0.001] # Add a placeholder alpha for visualization\n",
        "\n",
        "# Find the optimal alpha (the one that gives the highest accuracy on the test set)\n",
        "optimal_alpha_index = accuracies.index(max(accuracies[:-1])) # Exclude the trivial last alpha\n",
        "optimal_alpha = ccp_alphas[optimal_alpha_index]\n",
        "print(f\"\\nOptimal ccp_alpha based on test set accuracy: {optimal_alpha:.4f}\")\n",
        "print(f\"Maximum accuracy with optimal alpha: {max(accuracies[:-1]):.4f}\")\n",
        "print(f\"Accuracy of unpruned tree (ccp_alpha=0): {accuracy_full:.4f}\")\n",
        "\n",
        "\n",
        "# 4. Visualize the effect of pruning on accuracy\n",
        "plt.figure(figsize=(10, 6))\n",
        "plt.plot(ccp_alphas, accuracies[:-1], marker='o', drawstyle=\"steps-post\")\n",
        "plt.xscale('log') # Use log scale for alphas if they vary widely\n",
        "plt.xlabel(\"effective alpha\")\n",
        "plt.ylabel(\"accuracy\")\n",
        "plt.title(\"Accuracy vs. effective alpha for training and testing sets\")\n",
        "plt.grid(True)\n",
        "plt.show()\n",
        "\n",
        "# You can also plot training and testing accuracy\n",
        "train_scores = [clf.score(X_train, y_train) for clf in clfs]\n",
        "test_scores = [clf.score(X_test, y_test) for clf in clfs]\n",
        "\n",
        "plt.figure(figsize=(10, 6))\n",
        "plt.plot(ccp_alphas, train_scores, marker='o', label=\"train\",\n",
        "         drawstyle=\"steps-post\")\n",
        "plt.plot(ccp_alphas, test_scores, marker='o', label=\"test\",\n",
        "         drawstyle=\"steps-post\")\n",
        "plt.legend()\n",
        "plt.xscale('log')\n",
        "plt.xlabel(\"effective alpha\")\n",
        "plt.ylabel(\"accuracy\")\n",
        "plt.title(\"Accuracy vs. effective alpha for training and testing sets\")\n",
        "plt.grid(True)\n",
        "plt.show()\n",
        "\n",
        "# Train the final pruned tree with the optimal alpha found\n",
        "clf_pruned = DecisionTreeClassifier(random_state=42, ccp_alpha=optimal_alpha)\n",
        "clf_pruned.fit(X_train, y_train)\n",
        "y_pred_pruned = clf_pruned.predict(X_test)\n",
        "accuracy_pruned = accuracy_score(y_test, y_pred_pruned)\n",
        "print(f\"Accuracy of the pruned Decision Tree Classifier (optimal alpha): {accuracy_pruned:.4f}\")\n",
        "\n",
        "# You can compare this to the unpruned accuracy (accuracy_full from Q21)\n",
        "print(f\"Accuracy of the unpruned Decision Tree Classifier: {accuracy_full:.4f}\")"
      ],
      "metadata": {
        "colab": {
          "base_uri": "https://localhost:8080/",
          "height": 1000
        },
        "id": "X4v0vqxhxY0u",
        "outputId": "c543592a-dd38-477f-b85f-beac4082b6a2"
      },
      "execution_count": 16,
      "outputs": [
        {
          "output_type": "stream",
          "name": "stdout",
          "text": [
            "\n",
            "Optimal ccp_alpha based on test set accuracy: 0.0000\n",
            "Maximum accuracy with optimal alpha: 1.0000\n",
            "Accuracy of unpruned tree (ccp_alpha=0): 1.0000\n"
          ]
        },
        {
          "output_type": "display_data",
          "data": {
            "text/plain": [
              "<Figure size 1000x600 with 1 Axes>"
            ],
            "image/png": "[encoded data removed]"
          },
          "metadata": {}
        },
        {
          "output_type": "display_data",
          "data": {
            "text/plain": [
              "<Figure size 1000x600 with 1 Axes>"
            ],
            "image/png": "[encoded data removed]"
          },
          "metadata": {}
        },
        {
          "output_type": "stream",
          "name": "stdout",
          "text": [
            "Accuracy of the pruned Decision Tree Classifier (optimal alpha): 1.0000\n",
            "Accuracy of the unpruned Decision Tree Classifier: 1.0000\n"
          ]
        }
      ]
    },
    {
      "cell_type": "markdown",
      "source": [
        "Ques28. Write a Python program to train a Decision Tree Classifier and evaluate its performance using Precision, Recall, and F1-Score."
      ],
      "metadata": {
        "id": "913omqSQxfdI"
      }
    },
    {
      "cell_type": "code",
      "source": [
        "from sklearn.metrics import precision_score, recall_score, f1_score\n",
        "\n",
        "# Assuming clf is the trained Decision Tree Classifier from previous questions (e.g., Q16)\n",
        "# And y_test and y_pred are the true and predicted labels for the test set (from Q16)\n",
        "\n",
        "# If you need to retrain the classifier for this specific evaluation, you can do so:\n",
        "# Load the Iris dataset if not already loaded\n",
        "# iris = load_iris()\n",
        "# X = iris.data\n",
        "# y = iris.target\n",
        "\n",
        "# Split the dataset into training and testing sets if not already split\n",
        "# X_train, X_test, y_train, y_test = train_test_split(X, y, test_size=0.2, random_state=42)\n",
        "\n",
        "# Create and train a Decision Tree Classifier if not already trained\n",
        "# clf = DecisionTreeClassifier(random_state=42)\n",
        "# clf.fit(X_train, y_train)\n",
        "\n",
        "# Make predictions on the test set if not already done\n",
        "# y_pred = clf.predict(X_test)\n",
        "\n",
        "\n",
        "# Calculate Precision, Recall, and F1-Score\n",
        "# For multiclass classification, use 'weighted', 'macro', or 'micro' average\n",
        "# 'weighted' accounts for class imbalance\n",
        "precision = precision_score(y_test, y_pred, average='weighted')\n",
        "recall = recall_score(y_test, y_pred, average='weighted')\n",
        "f1 = f1_score(y_test, y_pred, average='weighted')\n",
        "\n",
        "# Print the evaluation metrics\n",
        "print(f\"\\nEvaluation Metrics for Decision Tree Classifier:\")\n",
        "print(f\"Precision: {precision:.4f}\")\n",
        "print(f\"Recall:    {recall:.4f}\")\n",
        "print(f\"F1-Score:  {f1:.4f}\")\n",
        "\n",
        "# You can also get metrics per class\n",
        "print(\"\\nMetrics per class:\")\n",
        "precision_per_class = precision_score(y_test, y_pred, average=None)\n",
        "recall_per_class = recall_score(y_test, y_pred, average=None)\n",
        "f1_per_class = f1_score(y_test, y_pred, average=None)\n",
        "\n",
        "for i, class_name in enumerate(iris.target_names):\n",
        "  print(f\"Class '{class_name}' (Label {i}):\")\n",
        "  print(f\"  Precision: {precision_per_class[i]:.4f}\")\n",
        "  print(f\"  Recall:    {recall_per_class[i]:.4f}\")\n",
        "  print(f\"  F1-Score:  {f1_per_class[i]:.4f}\")\n"
      ],
      "metadata": {
        "colab": {
          "base_uri": "https://localhost:8080/"
        },
        "id": "Y44FdqQmxkev",
        "outputId": "bd2079e7-5c72-44bd-8f1e-15cf9bf7a6c3"
      },
      "execution_count": 17,
      "outputs": [
        {
          "output_type": "stream",
          "name": "stdout",
          "text": [
            "\n",
            "Evaluation Metrics for Decision Tree Classifier:\n",
            "Precision: 0.4683\n",
            "Recall:    0.6333\n",
            "F1-Score:  0.5195\n",
            "\n",
            "Metrics per class:\n",
            "Class 'setosa' (Label 0):\n",
            "  Precision: 1.0000\n",
            "  Recall:    1.0000\n",
            "  F1-Score:  1.0000\n",
            "Class 'versicolor' (Label 1):\n",
            "  Precision: 0.4500\n",
            "  Recall:    1.0000\n",
            "  F1-Score:  0.6207\n",
            "Class 'virginica' (Label 2):\n",
            "  Precision: 0.0000\n",
            "  Recall:    0.0000\n",
            "  F1-Score:  0.0000\n"
          ]
        },
        {
          "output_type": "stream",
          "name": "stderr",
          "text": [
            "/usr/local/lib/python3.11/dist-packages/sklearn/metrics/_classification.py:1565: UndefinedMetricWarning: Precision is ill-defined and being set to 0.0 in labels with no predicted samples. Use `zero_division` parameter to control this behavior.\n",
            "  _warn_prf(average, modifier, f\"{metric.capitalize()} is\", len(result))\n",
            "/usr/local/lib/python3.11/dist-packages/sklearn/metrics/_classification.py:1565: UndefinedMetricWarning: Precision is ill-defined and being set to 0.0 in labels with no predicted samples. Use `zero_division` parameter to control this behavior.\n",
            "  _warn_prf(average, modifier, f\"{metric.capitalize()} is\", len(result))\n"
          ]
        }
      ]
    },
    {
      "cell_type": "markdown",
      "source": [
        "Ques29. Write a Python program to train a Decision Tree Classifier and visualize the confusion matrix using seaborn ."
      ],
      "metadata": {
        "id": "hvkTK_-_xxiX"
      }
    },
    {
      "cell_type": "code",
      "source": [
        "from sklearn.metrics import confusion_matrix\n",
        "import seaborn as sns\n",
        "\n",
        "# Assuming clf is the trained Decision Tree Classifier (e.g., from Q16)\n",
        "# And y_test and y_pred are the true and predicted labels for the test set (from Q16)\n",
        "\n",
        "# If you need to retrain the classifier for this specific evaluation, you can do so:\n",
        "# Load the Iris dataset if not already loaded\n",
        "# iris = load_iris()\n",
        "# X = iris.data\n",
        "# y = iris.target\n",
        "\n",
        "# Split the dataset into training and testing sets if not already split\n",
        "# X_train, X_test, y_train, y_test = train_test_split(X, y, test_size=0.2, random_state=42)\n",
        "\n",
        "# Create and train a Decision Tree Classifier if not already trained\n",
        "# clf = DecisionTreeClassifier(random_state=42)\n",
        "# clf.fit(X_train, y_train)\n",
        "\n",
        "# Make predictions on the test set if not already done\n",
        "# y_pred = clf.predict(X_test)\n",
        "\n",
        "# Calculate the confusion matrix\n",
        "cm = confusion_matrix(y_test, y_pred)\n",
        "\n",
        "# Get the class names\n",
        "class_names = iris.target_names\n",
        "\n",
        "# Visualize the confusion matrix using seaborn\n",
        "plt.figure(figsize=(8, 6))\n",
        "sns.heatmap(cm, annot=True, fmt='d', cmap='Blues', xticklabels=class_names, yticklabels=class_names)\n",
        "plt.xlabel('Predicted Label')\n",
        "plt.ylabel('True Label')\n",
        "plt.title('Confusion Matrix for Decision Tree Classifier (Iris Dataset)')\n",
        "plt.show()\n"
      ],
      "metadata": {
        "colab": {
          "base_uri": "https://localhost:8080/",
          "height": 564
        },
        "id": "fLM1E3xnx22B",
        "outputId": "a4a40c2c-3e6d-4193-83fc-e74e2e780ef6"
      },
      "execution_count": 18,
      "outputs": [
        {
          "output_type": "display_data",
          "data": {
            "text/plain": [
              "<Figure size 800x600 with 2 Axes>"
            ],
            "image/png": "[encoded data removed]"
          },
          "metadata": {}
        }
      ]
    },
    {
      "cell_type": "markdown",
      "source": [
        "Ques30. Write a Python program to train a Decision Tree Classifier and use GridSearchCV to find the optimal values for max_depth and min_samples_split."
      ],
      "metadata": {
        "id": "r58LmNhix9C_"
      }
    },
    {
      "cell_type": "code",
      "source": [
        "from sklearn.model_selection import GridSearchCV\n",
        "\n",
        "# Define the parameter grid to search\n",
        "param_grid = {\n",
        "    'max_depth': [None, 2, 3, 5, 10, 15], # Include None for unlimited depth\n",
        "    'min_samples_split': [2, 5, 10, 20, 50]\n",
        "}\n",
        "\n",
        "# Create a Decision Tree Classifier instance\n",
        "dt = DecisionTreeClassifier(random_state=42)\n",
        "\n",
        "# Create GridSearchCV object\n",
        "# cv=5 means 5-fold cross-validation\n",
        "grid_search = GridSearchCV(estimator=dt, param_grid=param_grid, cv=5, scoring='accuracy', n_jobs=-1)\n",
        "\n",
        "# Fit GridSearchCV to the training data\n",
        "# X_train and y_train should be available from previous code if running sequentially\n",
        "# If not, load and split the data first\n",
        "# iris = load_iris()\n",
        "# X = iris.data\n",
        "# y = iris.target\n",
        "# X_train, X_test, y_train, y_test = train_test_split(X, y, test_size=0.2, random_state=42)\n",
        "\n",
        "grid_search.fit(X_train, y_train)\n",
        "\n",
        "# Print the best parameters and the corresponding best score\n",
        "print(\"\\nGridSearchCV Results:\")\n",
        "print(f\"Best parameters found: {grid_search.best_params_}\")\n",
        "print(f\"Best cross-validation accuracy: {grid_search.best_score_:.4f}\")\n",
        "\n",
        "# You can also evaluate the best model on the test set\n",
        "best_clf = grid_search.best_estimator_\n",
        "y_pred_grid = best_clf.predict(X_test)\n",
        "test_accuracy = accuracy_score(y_test, y_pred_grid)\n",
        "print(f\"Accuracy on the test set using best parameters: {test_accuracy:.4f}\")"
      ],
      "metadata": {
        "colab": {
          "base_uri": "https://localhost:8080/"
        },
        "id": "NrezetPAyDPI",
        "outputId": "65c166e4-f67b-407b-c070-5768034ee2f2"
      },
      "execution_count": 19,
      "outputs": [
        {
          "output_type": "stream",
          "name": "stdout",
          "text": [
            "\n",
            "GridSearchCV Results:\n",
            "Best parameters found: {'max_depth': None, 'min_samples_split': 2}\n",
            "Best cross-validation accuracy: 0.9417\n",
            "Accuracy on the test set using best parameters: 1.0000\n"
          ]
        }
      ]
    }
  ]
}